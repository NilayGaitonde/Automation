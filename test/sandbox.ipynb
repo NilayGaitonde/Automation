{
 "cells": [
  {
   "cell_type": "code",
   "execution_count": 1,
   "metadata": {},
   "outputs": [],
   "source": [
    "# importing required modules\n",
    "import PyPDF2\n",
    "import re\n",
    "import pandas as pd\n",
    "import os\n",
    "from bs4 import BeautifulSoup\n",
    "from datetime import datetime"
   ]
  },
  {
   "cell_type": "code",
   "execution_count": 2,
   "metadata": {},
   "outputs": [],
   "source": [
    "# folder_loc = input(\"Enter folder location:\")\n",
    "folder_loc = \"/Users/nilaygaitonde/Documents/E-RevBay/Automation/data\"\n",
    "# Create a list of all files in the folder\n",
    "files = os.listdir(folder_loc)\n",
    "# Create a list of all files with .pdf extension\n",
    "pdf_files = [f for f in files if f.endswith('.pdf')]"
   ]
  },
  {
   "cell_type": "code",
   "execution_count": 3,
   "metadata": {},
   "outputs": [],
   "source": [
    "def get_index(firstIndex,string):\n",
    "    return int(firstIndex)+int(len(string))"
   ]
  },
  {
   "cell_type": "code",
   "execution_count": 4,
   "metadata": {},
   "outputs": [],
   "source": [
    "def save_as_csv(data_df,pivot_df,csv,filename):\n",
    "    if(csv):\n",
    "        data_df.to_csv(f'{filename}_1.csv',index=False)\n",
    "        pivot_df.to_csv(f'{filename}_2.csv',index=True)\n",
    "    else:\n",
    "        with pd.ExcelWriter(f'{filename}.xlsx') as writer:\n",
    "            data_df.to_excel(writer,sheet_name='Sheet1',index=False)\n",
    "            pivot_df.to_excel(writer,sheet_name='Sheet2',index=True)"
   ]
  },
  {
   "cell_type": "code",
   "execution_count": 5,
   "metadata": {},
   "outputs": [],
   "source": [
    "folder_loc = input(\"Enter folder location:\")\n",
    "files = os.listdir(folder_loc)\n",
    "pdf_files = [f for f in files if f.endswith('.pdf')]"
   ]
  },
  {
   "cell_type": "code",
   "execution_count": 6,
   "metadata": {},
   "outputs": [],
   "source": [
    "# folder_loc = input(\"Enter folder location:\")\n",
    "# files = os.listdir(folder_loc)\n",
    "# pdf_files = [f for f in files if f.endswith('.pdf')]\n",
    "# complete_String = \"\"\n",
    "# for file in pdf_files:\n",
    "#     print(\"For name\",file)\n",
    "#     salary = int(input(\"enter salary:\"))\n",
    "#     pdfFileObj = open(folder_loc+\"/\"+file, 'rb')\n",
    "# pdfReader = PyPDF2.PdfFileReader(pdfFileObj)\n",
    "# for i in range(pdfReader.numPages):\n",
    "#     pageObj = pdfReader.getPage(i).extract_text()\n",
    "#     complete_String += pageObj"
   ]
  },
  {
   "cell_type": "code",
   "execution_count": 7,
   "metadata": {},
   "outputs": [],
   "source": [
    "def create_loan(text,completeDF):\n",
    "    completeDF = {\"type\":[],\"institution\":[],\"date_opened\":[],\"sanction_credit\":[],\"balance\":[],\"emi\":[],\"paid_principle\":[],\"open\":[],\"delinquecy\":[]}\n",
    "    countAcc = text.count(\"Acct # :\")\n",
    "    for _ in range(countAcc):\n",
    "        delinquecy = False\n",
    "        accountNoIndex = text.find(\"Acct # :\")\n",
    "        text = text[accountNoIndex+1:]\n",
    "        openIndex = get_index(text.find('Open: '),'Open: ')\n",
    "        openValue = text[openIndex:(text.find(\"Date Reported: \"))].strip()\n",
    "\n",
    "        dateOpenedIndex = get_index(text.find('Date Opened: '),'Date Opened: ')\n",
    "        dateOpenedValue = text[dateOpenedIndex:(text.find(\"Type: \"))].strip()\n",
    "        try:\n",
    "            date_object = datetime.strptime(dateOpenedValue, '%d-%m-%Y').date()\n",
    "        except ValueError:\n",
    "            pass\n",
    "        # print(text)\n",
    "        balanceIndex = get_index(text.find('Balance: '),'Balance: ')\n",
    "        balance = text[balanceIndex:(text.find('Open:'))]\n",
    "        if(balance[0] == \"R\"):\n",
    "            balance = balance[4:]\n",
    "        balance = int(balance.replace(',',''))\n",
    "        # Find institution\n",
    "        instiutionIndex = get_index(text.find('Institution : '),'Institution : ')\n",
    "        instiutionName = text[instiutionIndex:(text.find('Past Due Amount'))-1]\n",
    "\n",
    "        # Find type of loan\n",
    "        typeIndex = get_index(text.find('Type: '),'Type: ')\n",
    "        typeName = text[typeIndex:(text.find('Last Payment:'))-1]\n",
    "\n",
    "        # TODO:::::::: FILL NAMES OF LOAN TYPES\n",
    "\n",
    "        if(typeName not in [\"Personal Loan\",\"Business Loan\",\"Credit Card\",\"Housing Loan\",\"Auto Loan\",\"\"]):\n",
    "            typeName = \"4_Others\"\n",
    "        elif(typeName == \"Credit Card\"):\n",
    "            typeName = \"1_CreditCard\"\n",
    "        elif(typeName == \"Personal Loan\"):\n",
    "            typeName = \"3_PersonalLoan\"\n",
    "        elif(typeName == \"Business Loan\"):\n",
    "            typeName = \"4_BusinessLoan\"\n",
    "        # Find EMI\n",
    "        emiIndex = get_index(text.find('Monthly Payment Amount: '),'Monthly Payment Amount:')\n",
    "        emiValue = text[emiIndex:(text.find('Credit Limit:'))-1]\n",
    "        if(emiValue == ''):\n",
    "            emiValue = 0\n",
    "        else:\n",
    "            emiValue = emiValue[4:]\n",
    "            try:\n",
    "                emiValue = int(emiValue.replace(',',''))\n",
    "            except ValueError:\n",
    "                emiValue = 0\n",
    "        \n",
    "        if(typeName == '1_CreditCard'):\n",
    "            creditIndex = get_index(text.find('Credit Limit:'),\"Credit Limit: Rs. \")\n",
    "            creditLimit = text[creditIndex:text.find('Collateral Value')-1]\n",
    "            try:\n",
    "                sanction_credit = int(creditLimit.replace(',',''))\n",
    "            except ValueError:\n",
    "                sanction_credit = 0\n",
    "            emiValue = balance*0.05\n",
    "        else:\n",
    "            sanctionIndex = get_index(text.find('Sanction Amount :'),\"Sanction Amount : \")\n",
    "            sanctionLimit = text[sanctionIndex:text.find('Reason:')]\n",
    "            # print(sanctionLimit)\n",
    "            if(sanctionLimit == ''):\n",
    "                sanction_credit = 0\n",
    "            else:\n",
    "                sanctionLimit = sanctionLimit[4:]\n",
    "                try:\n",
    "                    sanction_credit = int(sanctionLimit.replace(',',''))\n",
    "                except ValueError:\n",
    "                    sanction_credit = 0\n",
    "        AccountIndex = get_index(text.find('Account Status: '),'Account Status: ')\n",
    "        AccountStatus = text[AccountIndex:text.find('Asset Classification')].strip()\n",
    "        if(AccountStatus in [\" \",\"Closed Account\",\"Standard\",\"Current Account\"]):\n",
    "            delinquecy = False\n",
    "        else:\n",
    "            delinquecy = True\n",
    "        completeDF['balance'].append(int(balance))\n",
    "        completeDF['institution'].append(instiutionName.strip())\n",
    "        completeDF['type'].append(typeName.strip())\n",
    "        completeDF['sanction_credit'].append(int(sanction_credit))\n",
    "        completeDF['emi'].append(int(emiValue))\n",
    "        completeDF['paid_principle'].append(int(sanction_credit-balance))\n",
    "        completeDF['open'].append(openValue)\n",
    "        completeDF['delinquecy'].append(delinquecy)\n",
    "        completeDF['date_opened'].append(date_object)\n",
    "    return completeDF"
   ]
  },
  {
   "cell_type": "code",
   "execution_count": 8,
   "metadata": {},
   "outputs": [],
   "source": [
    "# finalDF = {\"type\":[],\"institution\":[],\"sanction_credit\":[],\"balance\":[],\"emi\":[],\"paid_principle\":[],\"open\":[],\"delinquecy\":[]}\n",
    "# for file in pdf_files:\n",
    "#     print(\"For name\",file)\n",
    "#     salary = input(\"enter salary:\")\n",
    "#     pdfFileObj = open(folder_loc+file, 'rb')\n",
    "#     pdfReader = PyPDF2.PdfFileReader(pdfFileObj)\n",
    "#     for i in range(pdfReader.numPages):\n",
    "#         pageObj = pdfReader.getPage(i).extract_text()\n",
    "#         on_page_2  = True\n",
    "#         balance = 0\n",
    "#         if(i == 0):\n",
    "#             try:\n",
    "#                 pageObj.index(\"Account Details :\")\n",
    "#                 on_page_2 = False\n",
    "#             except ValueError:\n",
    "#                 on_page_2 = True\n",
    "#         if not on_page_2:\n",
    "#             balanceIndex = get_index(pageObj.find('Balance: '),'Balance: ')\n",
    "#             balance = pageObj[balanceIndex:(pageObj.find('Open:'))]\n",
    "#             if(balance[0] == \"R\"):\n",
    "#                 balance = balance[4:]\n",
    "#             balance = int(balance.replace(',',''))\n",
    "#         newDF = create_loan(pageObj,on_page_2,finalDF,balance)\n",
    "#         [finalDF[\"type\"].append(i) for i in newDF[\"type\"]]\n",
    "#         [finalDF[\"institution\"].append(i) for i in newDF[\"institution\"]]\n",
    "#         [finalDF[\"sanction_credit\"].append(i) for i in newDF[\"sanction_credit\"]]\n",
    "#         [finalDF[\"balance\"].append(i) for i in newDF[\"balance\"]]\n",
    "#         [finalDF[\"emi\"].append(i) for i in newDF[\"emi\"]]\n",
    "#         [finalDF[\"paid_principle\"].append(i) for i in newDF[\"paid_principle\"]]\n",
    "#         [finalDF['open'].append(i) for i in newDF[\"open\"]]\n",
    "#         [finalDF['delinquecy'].append(i) for i in newDF[\"delinquecy\"]]\n",
    "        "
   ]
  },
  {
   "cell_type": "code",
   "execution_count": 9,
   "metadata": {},
   "outputs": [
    {
     "name": "stdout",
     "output_type": "stream",
     "text": [
      "755\n",
      "12500.0 12500.0 0\n"
     ]
    },
    {
     "name": "stderr",
     "output_type": "stream",
     "text": [
      "/var/folders/b4/9cg_tkrn3256x3hcybpxqnpw0000gn/T/ipykernel_62735/1626500506.py:35: FutureWarning: The default value of numeric_only in DataFrameGroupBy.sum is deprecated. In a future version, numeric_only will default to False. Either specify numeric_only or select only columns which should be valid for the function.\n",
      "  data_df.groupby('type').sum()\n",
      "/var/folders/b4/9cg_tkrn3256x3hcybpxqnpw0000gn/T/ipykernel_62735/1626500506.py:62: FutureWarning: The default value of numeric_only in DataFrameGroupBy.sum is deprecated. In a future version, numeric_only will default to False. Either specify numeric_only or select only columns which should be valid for the function.\n",
      "  pivot_df = data_df.groupby('type').sum()\n",
      "/var/folders/b4/9cg_tkrn3256x3hcybpxqnpw0000gn/T/ipykernel_62735/1626500506.py:64: FutureWarning: The frame.append method is deprecated and will be removed from pandas in a future version. Use pandas.concat instead.\n",
      "  pivot_df = pivot_df.append(sum_df,ignore_index=True)\n"
     ]
    }
   ],
   "source": [
    "finalDF = {\"type\":[],\"institution\":[],\"date_opened\":[],\"sanction_credit\":[],\"balance\":[],\"emi\":[],\"paid_principle\":[],\"open\":[],\"delinquecy\":[]}\n",
    "complete_String = \"\"\n",
    "for file in pdf_files:\n",
    "    salary = int(input(f\"For name,{file}: \\nEnter salary:\"))\n",
    "    pdfFileObj = open(folder_loc+\"/\"+file, 'rb')\n",
    "    pdfReader = PyPDF2.PdfFileReader(pdfFileObj)\n",
    "    for i in range(pdfReader.numPages):\n",
    "        pageObj = pdfReader.getPage(i).extract_text()\n",
    "        complete_String += pageObj\n",
    "    riskIndex = get_index(complete_String.find(\"Equifax Risk Score 3.1 \"), \"Equifax Risk Score 3.1 \")\n",
    "    riskValue = int(complete_String[riskIndex:(complete_String.find(\"1. \"))].strip())\n",
    "    print(riskValue)\n",
    "    newDF = create_loan(complete_String,finalDF)\n",
    "    [finalDF[\"type\"].append(i) for i in newDF[\"type\"]]\n",
    "    [finalDF[\"institution\"].append(i) for i in newDF[\"institution\"]]\n",
    "    [finalDF[\"sanction_credit\"].append(i) for i in newDF[\"sanction_credit\"]]\n",
    "    [finalDF[\"balance\"].append(i) for i in newDF[\"balance\"]]\n",
    "    [finalDF[\"emi\"].append(i) for i in newDF[\"emi\"]]\n",
    "    [finalDF[\"paid_principle\"].append(i) for i in newDF[\"paid_principle\"]]\n",
    "    [finalDF['open'].append(i) for i in newDF[\"open\"]]\n",
    "    [finalDF['delinquecy'].append(i) for i in newDF[\"delinquecy\"]]\n",
    "    [finalDF['date_opened'].append(i) for i in newDF[\"date_opened\"]]\n",
    "    data_df = pd.DataFrame.from_dict(finalDF)\n",
    "    data_df['open'] = data_df['open'].map({\n",
    "        'Yes': True,\n",
    "        'No': False\n",
    "    })\n",
    "    data_df = data_df.loc[data_df['open']==True]\n",
    "    # data_df.drop(['open'],axis=1,inplace=True)\n",
    "    data_df.sort_values(by=['type'],ascending=True,inplace=True)\n",
    "    # balance = 0 and no delinquecy is false\n",
    "    # make filter for balance = 0 and delinquecy = false\n",
    "    data_df = data_df.loc[(data_df['balance']!=0) | (data_df['delinquecy']==True)]\n",
    "    data_df['paid_principle'] = data_df['paid_principle'].apply(lambda x: 0 if x<0 else x)\n",
    "    data_df.groupby('type').sum()\n",
    "    # salary = 50000\n",
    "    df1=pd.DataFrame()\n",
    "    if(salary <= 50000):\n",
    "        FOIR = salary*0.5\n",
    "    elif(salary > 50000 and salary <= 150000):\n",
    "        FOIR = salary*0.6\n",
    "    else:\n",
    "        FOIR = salary*0.7\n",
    "    delinquency = data_df['delinquecy'].sum()\n",
    "    if(delinquency>0):\n",
    "        delinquency = True\n",
    "    else:\n",
    "        delinquency = False\n",
    "    disposable = FOIR - data_df['emi'].sum()\n",
    "    print(disposable,FOIR,data_df['emi'].sum())\n",
    "    sum_df = {\n",
    "        'type': 'Total',\n",
    "        'sanction_credit': data_df['sanction_credit'].sum(),\n",
    "        'balance': data_df['balance'].sum(),\n",
    "        'emi': data_df['emi'].sum(),\n",
    "        'paid_principle': data_df['paid_principle'].sum(),\n",
    "        'delinquecy': data_df['delinquecy'].sum(),\n",
    "        'foir': FOIR,\n",
    "        'disposable': disposable\n",
    "    }\n",
    "    sum_df = pd.DataFrame(sum_df,index=[0])\n",
    "    pivot_df = data_df.groupby('type').sum()\n",
    "    pivot_df = pivot_df.reset_index()\n",
    "    pivot_df = pivot_df.append(sum_df,ignore_index=True)\n",
    "    pivot_df.set_index('type',inplace=True)\n",
    "    data_df.set_index('type',inplace=True)\n",
    "    filename = os.path.basename(file).split('.')[0]\n",
    "    save_as_csv(data_df = data_df,pivot_df = pivot_df,csv = True,filename=filename)"
   ]
  },
  {
   "cell_type": "code",
   "execution_count": 10,
   "metadata": {},
   "outputs": [
    {
     "name": "stdout",
     "output_type": "stream",
     "text": [
      "12500.0\n",
      "525432.3974313625\n"
     ]
    }
   ],
   "source": [
    "# disp = prq\n",
    "# q = a/b\n",
    "# a = (1 + (0.15/12))**60\n",
    "var1 = 1 + (0.15/12)\n",
    "var2 = 0.15/12\n",
    "var3 = var1**60\n",
    "\n",
    "value1 = (var3 - 1)*disposable\n",
    "print(disposable)\n",
    "value2 = var2*var3\n",
    "principal_amt = value1/value2\n",
    "print(principal_amt)"
   ]
  },
  {
   "cell_type": "code",
   "execution_count": 11,
   "metadata": {},
   "outputs": [
    {
     "name": "stdout",
     "output_type": "stream",
     "text": [
      "FOIR:  12500.0\n",
      "emi 0\n",
      "Disposable:  12500.0\n",
      "Delinuency: False\n"
     ]
    }
   ],
   "source": [
    "# -------------------OUTPUT-------------------\n",
    "print(\"FOIR: \",FOIR)\n",
    "print(\"emi\",data_df['emi'].sum())\n",
    "print(\"Disposable: \",disposable)\n",
    "print(\"Delinuency:\",delinquency)\n",
    "# if(delinquency):\n",
    "#     print(\"You have delinuency in your loan and you are not eligible for loan\")\n",
    "# else:\n",
    "#     if(disposable>0):\n",
    "#         print(\"You are eligible for loan\")\n",
    "#     else:\n",
    "#         print(\"You are not eligible for loan\")"
   ]
  }
 ],
 "metadata": {
  "kernelspec": {
   "display_name": "Python 3.9.15 ('Automation')",
   "language": "python",
   "name": "python3"
  },
  "language_info": {
   "codemirror_mode": {
    "name": "ipython",
    "version": 3
   },
   "file_extension": ".py",
   "mimetype": "text/x-python",
   "name": "python",
   "nbconvert_exporter": "python",
   "pygments_lexer": "ipython3",
   "version": "3.9.15 (main, Nov 24 2022, 08:29:02) \n[Clang 14.0.6 ]"
  },
  "orig_nbformat": 4,
  "vscode": {
   "interpreter": {
    "hash": "5c9d2df7a0fd9f7ead196cf808e359ff77717282d94b5e44178885e958ad6d29"
   }
  }
 },
 "nbformat": 4,
 "nbformat_minor": 2
}
