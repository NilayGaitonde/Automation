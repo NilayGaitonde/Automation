{
 "cells": [
  {
   "cell_type": "code",
   "execution_count": 78,
   "metadata": {},
   "outputs": [
    {
     "data": {
      "text/plain": [
       "'Hello world'"
      ]
     },
     "execution_count": 78,
     "metadata": {},
     "output_type": "execute_result"
    }
   ],
   "source": [
    "str = \"HELLO WORLD\"\n",
    "str.capitalize()"
   ]
  },
  {
   "cell_type": "code",
   "execution_count": 75,
   "metadata": {},
   "outputs": [],
   "source": [
    "# importing required modules\n",
    "import PyPDF2\n",
    "import re\n",
    "import pandas as pd\n",
    "import os\n",
    "from bs4 import BeautifulSoup\n",
    "import datetime\n",
    "import numpy as np"
   ]
  },
  {
   "cell_type": "code",
   "execution_count": 45,
   "metadata": {},
   "outputs": [],
   "source": [
    "def get_new_PL(disposable):\n",
    "    # EMI = P x R x (1+R)^N / [(1+R)^N-1] (where n = 60 months, r = 15% per annum and EMI = disposable)\n",
    "    # disp = prq\n",
    "    # q = a/b\n",
    "    # a = (1 + (0.15/12))**60\n",
    "    var1 = 1 + (0.15/12)\n",
    "    var2 = 0.15/12\n",
    "    var3 = var1**60\n",
    "    \n",
    "    value1 = (var3 - 1)*disposable\n",
    "    value2 = var2*var3\n",
    "    principal_amt = value1/value2\n",
    "    return principal_amt"
   ]
  },
  {
   "cell_type": "code",
   "execution_count": 46,
   "metadata": {},
   "outputs": [
    {
     "data": {
      "text/plain": [
       "14"
      ]
     },
     "execution_count": 46,
     "metadata": {},
     "output_type": "execute_result"
    }
   ],
   "source": [
    "def diff_month(d1, d2):\n",
    "    return (d1.year - d2.year) * 12 + d1.month - d2.month"
   ]
  },
  {
   "attachments": {},
   "cell_type": "markdown",
   "metadata": {},
   "source": [
    "-----\n",
    "# Recommendation"
   ]
  },
  {
   "cell_type": "code",
   "execution_count": 72,
   "metadata": {},
   "outputs": [],
   "source": [
    "df = {'Products': {3: '1_CreditCard', 8: '1_CreditCard', 9: '1_CreditCard', 17: '1_CreditCard', 1: '3_PersonalLoan', 21: '3_PersonalLoan', 19: '3_PersonalLoan', 7: '3_PersonalLoan', 16: '3_PersonalLoan', 14: '3_PersonalLoan', 20: '4_Others', 18: '4_Others', 0: '4_Others', 12: '4_Others', 22: '4_Others', 5: '4_Others', 4: '4_Others', 2: '4_Others', 23: '4_Others'}, 'Loan Institution': {3: 'HDFC Bank Limited', 8: 'Axis Bank Ltd.', 9: 'Axis Bank Ltd.', 17: 'IDFC First Bank Ltd', 1: 'Vaibhav Vyapaar Private \\nLimite', 21: 'OHMY Loan Private Limited', 19: 'IDFC First Bank Ltd', 7: 'Hero Fincorp Limited', 16: 'Fullerton India Credit \\nCompany Ltd', 14: 'Tata Capital Financial Services \\nLimite', 20: 'Kisetsu Saison Finance \\n(India) Pvt Lt', 18: 'DMI Finance Private Limited', 0: 'Bajaj Finance Limited', 12: 'Manba Finance Ltd', 22: 'Kotak Mahindra Bank Ltd.', 5: 'Kotak Mahindra Bank Ltd.', 4: 'Kotak Mahindra Bank Ltd.', 2: 'Aditya Birla Finance', 23: 'InCred Financial Services \\nLimite'}, \n",
    "    'date_opened': {\n",
    "        3: datetime.date(2020, 1, 21), 8: datetime.date(2022, 2, 22), 9: datetime.date(2022, 6, 30), 17: datetime.date(2022, 5, 30), 1: datetime.date(2021, 8, 4), 21: datetime.date(2021, 3, 18), 19: datetime.date(2021, 11, 3), 7: datetime.date(2022, 9, 23), 16: datetime.date(2022, 7, 22), 14: datetime.date(2022, 1, 27), 20: datetime.date(2021, 9, 3), 18: datetime.date(2021, 10, 5), 0: datetime.date(2022, 9, 6), 12: datetime.date(2021, 3, 23), 22: datetime.date(2021, 4, 16), 5: datetime.date(2021, 12, 27), 4: datetime.date(2022, 1, 9), 2: datetime.date(2021, 10, 12), 23: datetime.date(2018, 8, 18)}, 'Sanction/Credit Limit': {3: 0, 8: 66000, 9: 16000, 17: 25000, 1: 6000, 21: 25000, 19: 4295, 7: 52000, 16: 60000, 14: 40000, 20: 30112021, 18: 10648, 0: 17528, 12: 84301, 22: 0, 5: 14198, 4: 12499, 2: 15000, 23: 1500}, 'Balance': {3: 955, 8: 34894, 9: 12180, 17: 23988, 1: 6000, 21: 3114, 19: 1457, 7: 52000, 16: 50607, 14: 26380, 20: 11499, 18: 3993, 0: 17528, 12: 53339, 22: 7418, 5: 3782, 4: 1467, 2: 2792, 23: 5}, 'EMI': {3: 47, 8: 1744, 9: 609, 17: 1199, 1: 0, 21: 3211, 19: 1484, 7: 5070, 16: 0, 14: 0, 20: 0, 18: 0, 0: 0, 12: 0, 22: 0, 5: 0, 4: 0, 2: 1448, 23: 1527}, 'Paid Principle': {3: 0, 8: 31106, 9: 3820, 17: 1012, 1: 0, 21: 21886, 19: 2838, 7: 0, 16: 9393, 14: 13620, 20: 30100522, 18: 6655, 0: 0, 12: 30962, 22: 0, 5: 10416, 4: 11032, 2: 12208, 23: 1495}, 'Delinquencies': {3: False, 8: False, 9: True, 17: False, 1: True, 21: False, 19: False, 7: False, 16: False, 14: False, 20: False, 18: False, 0: True, 12: False, 22: False, 5: False, 4: False, 2: False, 23: True}}\n",
    "df = pd.DataFrame.from_dict(df)"
   ]
  },
  {
   "cell_type": "code",
   "execution_count": 73,
   "metadata": {},
   "outputs": [],
   "source": [
    "salary = 100000\n",
    "if(salary <= 50000):\n",
    "    FOIR = salary*0.5\n",
    "elif(salary > 50000 and salary <= 150000):\n",
    "    FOIR = salary*0.6\n",
    "else:\n",
    "    FOIR = salary*0.7\n",
    "disposable = FOIR - df['EMI'].sum()"
   ]
  },
  {
   "cell_type": "code",
   "execution_count": 67,
   "metadata": {},
   "outputs": [],
   "source": [
    "# create diff\n",
    "df['date_diff'] = df['date_opened'].apply(lambda x: diff_month(datetime.date.today(), x))\n",
    "df['date_diff'] = df['date_diff'].apply(lambda x: True if x < 12 else False)\n",
    "df.drop(df[(df['Products'] == '3_PersonalLoan') & (df['date_diff'] == True)].index, inplace = True)"
   ]
  },
  {
   "cell_type": "code",
   "execution_count": 77,
   "metadata": {},
   "outputs": [
    {
     "data": {
      "text/html": [
       "<div>\n",
       "<style scoped>\n",
       "    .dataframe tbody tr th:only-of-type {\n",
       "        vertical-align: middle;\n",
       "    }\n",
       "\n",
       "    .dataframe tbody tr th {\n",
       "        vertical-align: top;\n",
       "    }\n",
       "\n",
       "    .dataframe thead th {\n",
       "        text-align: right;\n",
       "    }\n",
       "</style>\n",
       "<table border=\"1\" class=\"dataframe\">\n",
       "  <thead>\n",
       "    <tr style=\"text-align: right;\">\n",
       "      <th></th>\n",
       "      <th>Balance</th>\n",
       "      <th>EMI</th>\n",
       "      <th>Paid Principle</th>\n",
       "      <th>Sanction/Credit Limit</th>\n",
       "    </tr>\n",
       "    <tr>\n",
       "      <th>Products</th>\n",
       "      <th></th>\n",
       "      <th></th>\n",
       "      <th></th>\n",
       "      <th></th>\n",
       "    </tr>\n",
       "  </thead>\n",
       "  <tbody>\n",
       "    <tr>\n",
       "      <th>1_CreditCard</th>\n",
       "      <td>72017</td>\n",
       "      <td>3599</td>\n",
       "      <td>35938</td>\n",
       "      <td>107000</td>\n",
       "    </tr>\n",
       "    <tr>\n",
       "      <th>3_PersonalLoan</th>\n",
       "      <td>139558</td>\n",
       "      <td>9765</td>\n",
       "      <td>47737</td>\n",
       "      <td>187295</td>\n",
       "    </tr>\n",
       "    <tr>\n",
       "      <th>4_Others</th>\n",
       "      <td>101823</td>\n",
       "      <td>2975</td>\n",
       "      <td>30173290</td>\n",
       "      <td>30267695</td>\n",
       "    </tr>\n",
       "  </tbody>\n",
       "</table>\n",
       "</div>"
      ],
      "text/plain": [
       "                Balance   EMI  Paid Principle  Sanction/Credit Limit\n",
       "Products                                                            \n",
       "1_CreditCard      72017  3599           35938                 107000\n",
       "3_PersonalLoan   139558  9765           47737                 187295\n",
       "4_Others         101823  2975        30173290               30267695"
      ]
     },
     "execution_count": 77,
     "metadata": {},
     "output_type": "execute_result"
    }
   ],
   "source": [
    "pivot_df = pd.pivot_table(df,index = [\"Products\"], values=['Balance','EMI','Paid Principle','Sanction/Credit Limit'], aggfunc=np.sum, fill_value=0)"
   ]
  },
  {
   "cell_type": "code",
   "execution_count": 49,
   "metadata": {},
   "outputs": [],
   "source": [
    "def get_top_up(df:pd.DataFrame):\n",
    "    top_up_label = list()\n",
    "    try:\n",
    "        top_up = df.loc[\"3_PersonalLoan\"][\"Paid Principle\"]\n",
    "        top_up_label = [\"Personal Loan\",top_up]\n",
    "    except KeyError:\n",
    "        pass\n",
    "    try:\n",
    "        top_up = df.loc[\"5_AutoLoan\"][\"Paid Principle\"]\n",
    "        top_up_label = [\"Auto Loan\",top_up]\n",
    "    except KeyError:\n",
    "        pass\n",
    "    try:\n",
    "        top_up = df.loc[\"6_HomeLoan\"][\"Paid Principle\"]\n",
    "        top_up_label = [\"Home Loan\",top_up] \n",
    "    except KeyError:\n",
    "        pass\n",
    "    return top_up_label\n"
   ]
  },
  {
   "cell_type": "code",
   "execution_count": 50,
   "metadata": {},
   "outputs": [],
   "source": [
    "recommendation = \"\"\n",
    "recommendation_df = {\"Recommendation\":[],\"New PL\":[],\"Top Up\":[],\"Reduce\":[],\"Remove\":[]}\n",
    "no_of_delinquecy = df['Delinquencies'].sum()\n",
    "if(disposable>0):\n",
    "    new_pl = int(get_new_PL(disposable))\n",
    "    recommendation_df[\"New PL\"].append(new_pl)\n",
    "    recommendation+=f\"You are eligible for a new Personal Loan of ₹{new_pl}\"\n",
    "else:\n",
    "    recommendation+=\"You are not eligible for a new Personal Loan\"\n",
    "\n",
    "top_up_label = get_top_up(df)\n",
    "if(len(top_up_label)>0 and top_up_label[1]>0):\n",
    "    recommendation_df[\"Top Up\"].append(top_up_label)\n",
    "    recommendation+=f\" and a Top Up of ₹{top_up_label[1]} on your {top_up_label[0]}\"\n",
    "else:\n",
    "    recommendation+=\". There is no Top Up available\"\n",
    "recommendation_df['Recommendation'].append(recommendation)"
   ]
  },
  {
   "cell_type": "code",
   "execution_count": 51,
   "metadata": {},
   "outputs": [],
   "source": [
    "# folder_loc = input(\"Enter folder location:\")\n",
    "folder_loc = \"/Users/nilaygaitonde/Documents/E-RevBay/Automation/data\"\n",
    "# Create a list of all files in the folder\n",
    "files = os.listdir(folder_loc)\n",
    "# Create a list of all files with .pdf extension\n",
    "pdf_files = [f for f in files if f.endswith('.pdf')]"
   ]
  },
  {
   "cell_type": "code",
   "execution_count": 52,
   "metadata": {},
   "outputs": [],
   "source": [
    "def get_index(firstIndex,string):\n",
    "    return int(firstIndex)+int(len(string))"
   ]
  },
  {
   "cell_type": "code",
   "execution_count": 53,
   "metadata": {},
   "outputs": [],
   "source": [
    "def save_as_csv(data_df,pivot_df,csv,filename):\n",
    "    if(csv):\n",
    "        data_df.to_csv(f'{filename}_1.csv',index=False)\n",
    "        pivot_df.to_csv(f'{filename}_2.csv',index=True)\n",
    "    else:\n",
    "        with pd.ExcelWriter(f'{filename}.xlsx') as writer:\n",
    "            data_df.to_excel(writer,sheet_name='Sheet1',index=False)\n",
    "            pivot_df.to_excel(writer,sheet_name='Sheet2',index=True)"
   ]
  },
  {
   "cell_type": "code",
   "execution_count": 54,
   "metadata": {},
   "outputs": [
    {
     "ename": "FileNotFoundError",
     "evalue": "[Errno 2] No such file or directory: ''",
     "output_type": "error",
     "traceback": [
      "\u001b[0;31m---------------------------------------------------------------------------\u001b[0m",
      "\u001b[0;31mFileNotFoundError\u001b[0m                         Traceback (most recent call last)",
      "Cell \u001b[0;32mIn[54], line 2\u001b[0m\n\u001b[1;32m      1\u001b[0m folder_loc \u001b[39m=\u001b[39m \u001b[39minput\u001b[39m(\u001b[39m\"\u001b[39m\u001b[39mEnter folder location:\u001b[39m\u001b[39m\"\u001b[39m)\n\u001b[0;32m----> 2\u001b[0m files \u001b[39m=\u001b[39m os\u001b[39m.\u001b[39;49mlistdir(folder_loc)\n\u001b[1;32m      3\u001b[0m pdf_files \u001b[39m=\u001b[39m [f \u001b[39mfor\u001b[39;00m f \u001b[39min\u001b[39;00m files \u001b[39mif\u001b[39;00m f\u001b[39m.\u001b[39mendswith(\u001b[39m'\u001b[39m\u001b[39m.pdf\u001b[39m\u001b[39m'\u001b[39m)]\n",
      "\u001b[0;31mFileNotFoundError\u001b[0m: [Errno 2] No such file or directory: ''"
     ]
    }
   ],
   "source": [
    "files = os.listdir(folder_loc)\n",
    "pdf_files = [f for f in files if f.endswith('.pdf')]"
   ]
  },
  {
   "cell_type": "code",
   "execution_count": null,
   "metadata": {},
   "outputs": [],
   "source": [
    "# folder_loc = input(\"Enter folder location:\")\n",
    "# files = os.listdir(folder_loc)\n",
    "# pdf_files = [f for f in files if f.endswith('.pdf')]\n",
    "# complete_String = \"\"\n",
    "# for file in pdf_files:\n",
    "#     print(\"For name\",file)\n",
    "#     salary = int(input(\"enter salary:\"))\n",
    "#     pdfFileObj = open(folder_loc+\"/\"+file, 'rb')\n",
    "# pdfReader = PyPDF2.PdfFileReader(pdfFileObj)\n",
    "# for i in range(pdfReader.numPages):\n",
    "#     pageObj = pdfReader.getPage(i).extract_text()\n",
    "#     complete_String += pageObj"
   ]
  },
  {
   "cell_type": "code",
   "execution_count": null,
   "metadata": {},
   "outputs": [],
   "source": [
    "def create_loan(text,completeDF):\n",
    "    completeDF = {\"type\":[],\"institution\":[],\"date_opened\":[],\"sanction_credit\":[],\"balance\":[],\"emi\":[],\"paid_principle\":[],\"open\":[],\"delinquecy\":[]}\n",
    "    countAcc = text.count(\"Acct # :\")\n",
    "    for _ in range(countAcc):\n",
    "        delinquecy = False\n",
    "        accountNoIndex = text.find(\"Acct # :\")\n",
    "        text = text[accountNoIndex+1:]\n",
    "        openIndex = get_index(text.find('Open: '),'Open: ')\n",
    "        openValue = text[openIndex:(text.find(\"Date Reported: \"))].strip()\n",
    "\n",
    "        dateOpenedIndex = get_index(text.find('Date Opened: '),'Date Opened: ')\n",
    "        dateOpenedValue = text[dateOpenedIndex:(text.find(\"Type: \"))].strip()\n",
    "        try:\n",
    "            date_object = datetime.strptime(dateOpenedValue, '%d-%m-%Y').date()\n",
    "        except ValueError:\n",
    "            pass\n",
    "        # print(text)\n",
    "        balanceIndex = get_index(text.find('Balance: '),'Balance: ')\n",
    "        balance = text[balanceIndex:(text.find('Open:'))]\n",
    "        if(balance[0] == \"R\"):\n",
    "            balance = balance[4:]\n",
    "        balance = int(balance.replace(',',''))\n",
    "        # Find institution\n",
    "        instiutionIndex = get_index(text.find('Institution : '),'Institution : ')\n",
    "        instiutionName = text[instiutionIndex:(text.find('Past Due Amount'))-1]\n",
    "\n",
    "        # Find type of loan\n",
    "        typeIndex = get_index(text.find('Type: '),'Type: ')\n",
    "        typeName = text[typeIndex:(text.find('Last Payment:'))-1]\n",
    "\n",
    "        # TODO:::::::: FILL NAMES OF LOAN TYPES\n",
    "\n",
    "        if(typeName not in [\"Personal Loan\",\"Business Loan\",\"Credit Card\",\"Housing Loan\",\"Auto Loan\",\"\"]):\n",
    "            typeName = \"4_Others\"\n",
    "        elif(typeName == \"Credit Card\"):\n",
    "            typeName = \"1_CreditCard\"\n",
    "        elif(typeName == \"Personal Loan\"):\n",
    "            typeName = \"3_PersonalLoan\"\n",
    "        elif(typeName == \"Business Loan\"):\n",
    "            typeName = \"4_BusinessLoan\"\n",
    "        # Find EMI\n",
    "        emiIndex = get_index(text.find('Monthly Payment Amount: '),'Monthly Payment Amount:')\n",
    "        emiValue = text[emiIndex:(text.find('Credit Limit:'))-1]\n",
    "        if(emiValue == ''):\n",
    "            emiValue = 0\n",
    "        else:\n",
    "            emiValue = emiValue[4:]\n",
    "            try:\n",
    "                emiValue = int(emiValue.replace(',',''))\n",
    "            except ValueError:\n",
    "                emiValue = 0\n",
    "        \n",
    "        if(typeName == '1_CreditCard'):\n",
    "            creditIndex = get_index(text.find('Credit Limit:'),\"Credit Limit: Rs. \")\n",
    "            creditLimit = text[creditIndex:text.find('Collateral Value')-1]\n",
    "            try:\n",
    "                sanction_credit = int(creditLimit.replace(',',''))\n",
    "            except ValueError:\n",
    "                sanction_credit = 0\n",
    "            emiValue = balance*0.05\n",
    "        else:\n",
    "            sanctionIndex = get_index(text.find('Sanction Amount :'),\"Sanction Amount : \")\n",
    "            sanctionLimit = text[sanctionIndex:text.find('Reason:')]\n",
    "            # print(sanctionLimit)\n",
    "            if(sanctionLimit == ''):\n",
    "                sanction_credit = 0\n",
    "            else:\n",
    "                sanctionLimit = sanctionLimit[4:]\n",
    "                try:\n",
    "                    sanction_credit = int(sanctionLimit.replace(',',''))\n",
    "                except ValueError:\n",
    "                    sanction_credit = 0\n",
    "        AccountIndex = get_index(text.find('Account Status: '),'Account Status: ')\n",
    "        AccountStatus = text[AccountIndex:text.find('Asset Classification')].strip()\n",
    "        if(AccountStatus in [\" \",\"Closed Account\",\"Standard\",\"Current Account\"]):\n",
    "            delinquecy = False\n",
    "        else:\n",
    "            delinquecy = True\n",
    "        completeDF['balance'].append(int(balance))\n",
    "        completeDF['institution'].append(instiutionName.strip())\n",
    "        completeDF['type'].append(typeName.strip())\n",
    "        completeDF['sanction_credit'].append(int(sanction_credit))\n",
    "        completeDF['emi'].append(int(emiValue))\n",
    "        completeDF['paid_principle'].append(int(sanction_credit-balance))\n",
    "        completeDF['open'].append(openValue)\n",
    "        completeDF['delinquecy'].append(delinquecy)\n",
    "        completeDF['date_opened'].append(date_object)\n",
    "    return completeDF"
   ]
  },
  {
   "cell_type": "code",
   "execution_count": null,
   "metadata": {},
   "outputs": [],
   "source": [
    "# finalDF = {\"type\":[],\"institution\":[],\"sanction_credit\":[],\"balance\":[],\"emi\":[],\"paid_principle\":[],\"open\":[],\"delinquecy\":[]}\n",
    "# for file in pdf_files:\n",
    "#     print(\"For name\",file)\n",
    "#     salary = input(\"enter salary:\")\n",
    "#     pdfFileObj = open(folder_loc+file, 'rb')\n",
    "#     pdfReader = PyPDF2.PdfFileReader(pdfFileObj)\n",
    "#     for i in range(pdfReader.numPages):\n",
    "#         pageObj = pdfReader.getPage(i).extract_text()\n",
    "#         on_page_2  = True\n",
    "#         balance = 0\n",
    "#         if(i == 0):\n",
    "#             try:\n",
    "#                 pageObj.index(\"Account Details :\")\n",
    "#                 on_page_2 = False\n",
    "#             except ValueError:\n",
    "#                 on_page_2 = True\n",
    "#         if not on_page_2:\n",
    "#             balanceIndex = get_index(pageObj.find('Balance: '),'Balance: ')\n",
    "#             balance = pageObj[balanceIndex:(pageObj.find('Open:'))]\n",
    "#             if(balance[0] == \"R\"):\n",
    "#                 balance = balance[4:]\n",
    "#             balance = int(balance.replace(',',''))\n",
    "#         newDF = create_loan(pageObj,on_page_2,finalDF,balance)\n",
    "#         [finalDF[\"type\"].append(i) for i in newDF[\"type\"]]\n",
    "#         [finalDF[\"institution\"].append(i) for i in newDF[\"institution\"]]\n",
    "#         [finalDF[\"sanction_credit\"].append(i) for i in newDF[\"sanction_credit\"]]\n",
    "#         [finalDF[\"balance\"].append(i) for i in newDF[\"balance\"]]\n",
    "#         [finalDF[\"emi\"].append(i) for i in newDF[\"emi\"]]\n",
    "#         [finalDF[\"paid_principle\"].append(i) for i in newDF[\"paid_principle\"]]\n",
    "#         [finalDF['open'].append(i) for i in newDF[\"open\"]]\n",
    "#         [finalDF['delinquecy'].append(i) for i in newDF[\"delinquecy\"]]\n",
    "        "
   ]
  },
  {
   "cell_type": "code",
   "execution_count": null,
   "metadata": {},
   "outputs": [],
   "source": [
    "finalDF = {\"type\":[],\"institution\":[],\"date_opened\":[],\"sanction_credit\":[],\"balance\":[],\"emi\":[],\"paid_principle\":[],\"open\":[],\"delinquecy\":[]}\n",
    "complete_String = \"\"\n",
    "for file in pdf_files:\n",
    "    salary = int(input(f\"For name,{file}: \\nEnter salary:\"))\n",
    "    pdfFileObj = open(folder_loc+\"/\"+file, 'rb')\n",
    "    pdfReader = PyPDF2.PdfFileReader(pdfFileObj)\n",
    "    for i in range(pdfReader.numPages):\n",
    "        pageObj = pdfReader.getPage(i).extract_text()\n",
    "        complete_String += pageObj\n",
    "    riskIndex = get_index(complete_String.find(\"Equifax Risk Score 3.1 \"), \"Equifax Risk Score 3.1 \")\n",
    "    riskValue = int(complete_String[riskIndex:(complete_String.find(\"1. \"))].strip())\n",
    "    print(riskValue)\n",
    "    newDF = create_loan(complete_String,finalDF)\n",
    "    [finalDF[\"type\"].append(i) for i in newDF[\"type\"]]\n",
    "    [finalDF[\"institution\"].append(i) for i in newDF[\"institution\"]]\n",
    "    [finalDF[\"sanction_credit\"].append(i) for i in newDF[\"sanction_credit\"]]\n",
    "    [finalDF[\"balance\"].append(i) for i in newDF[\"balance\"]]\n",
    "    [finalDF[\"emi\"].append(i) for i in newDF[\"emi\"]]\n",
    "    [finalDF[\"paid_principle\"].append(i) for i in newDF[\"paid_principle\"]]\n",
    "    [finalDF['open'].append(i) for i in newDF[\"open\"]]\n",
    "    [finalDF['delinquecy'].append(i) for i in newDF[\"delinquecy\"]]\n",
    "    [finalDF['date_opened'].append(i) for i in newDF[\"date_opened\"]]\n",
    "    data_df = pd.DataFrame.from_dict(finalDF)\n",
    "    data_df['open'] = data_df['open'].map({\n",
    "        'Yes': True,\n",
    "        'No': False\n",
    "    })\n",
    "    data_df = data_df.loc[data_df['open']==True]\n",
    "    # data_df.drop(['open'],axis=1,inplace=True)\n",
    "    data_df.sort_values(by=['type'],ascending=True,inplace=True)\n",
    "    # balance = 0 and no delinquecy is false\n",
    "    # make filter for balance = 0 and delinquecy = false\n",
    "    data_df = data_df.loc[(data_df['balance']!=0) | (data_df['delinquecy']==True)]\n",
    "    data_df['paid_principle'] = data_df['paid_principle'].apply(lambda x: 0 if x<0 else x)\n",
    "    data_df.groupby('type').sum()\n",
    "    # salary = 50000\n",
    "    df1=pd.DataFrame()\n",
    "    if(salary <= 50000):\n",
    "        FOIR = salary*0.5\n",
    "    elif(salary > 50000 and salary <= 150000):\n",
    "        FOIR = salary*0.6\n",
    "    else:\n",
    "        FOIR = salary*0.7\n",
    "    delinquency = data_df['delinquecy'].sum()\n",
    "    if(delinquency>0):\n",
    "        delinquency = True\n",
    "    else:\n",
    "        delinquency = False\n",
    "    disposable = FOIR - data_df['emi'].sum()\n",
    "    print(disposable,FOIR,data_df['emi'].sum())\n",
    "    sum_df = {\n",
    "        'type': 'Total',\n",
    "        'sanction_credit': data_df['sanction_credit'].sum(),\n",
    "        'balance': data_df['balance'].sum(),\n",
    "        'emi': data_df['emi'].sum(),\n",
    "        'paid_principle': data_df['paid_principle'].sum(),\n",
    "        'delinquecy': data_df['delinquecy'].sum(),\n",
    "        'foir': FOIR,\n",
    "        'disposable': disposable\n",
    "    }\n",
    "    sum_df = pd.DataFrame(sum_df,index=[0])\n",
    "    pivot_df = data_df.groupby('type').sum()\n",
    "    pivot_df = pivot_df.reset_index()\n",
    "    pivot_df = pivot_df.append(sum_df,ignore_index=True)\n",
    "    pivot_df.set_index('type',inplace=True)\n",
    "    data_df.set_index('type',inplace=True)\n",
    "    filename = os.path.basename(file).split('.')[0]\n",
    "    save_as_csv(data_df = data_df,pivot_df = pivot_df,csv = True,filename=filename)"
   ]
  },
  {
   "cell_type": "code",
   "execution_count": null,
   "metadata": {},
   "outputs": [],
   "source": [
    "# disp = prq\n",
    "# q = a/b\n",
    "# a = (1 + (0.15/12))**60\n",
    "var1 = 1 + (0.15/12)\n",
    "var2 = 0.15/12\n",
    "var3 = var1**60\n",
    "\n",
    "value1 = (var3 - 1)*disposable\n",
    "print(disposable)\n",
    "value2 = var2*var3\n",
    "principal_amt = value1/value2\n",
    "print(principal_amt)"
   ]
  },
  {
   "cell_type": "code",
   "execution_count": null,
   "metadata": {},
   "outputs": [],
   "source": [
    "# -------------------OUTPUT-------------------\n",
    "print(\"FOIR: \",FOIR)\n",
    "print(\"emi\",data_df['emi'].sum())\n",
    "print(\"Disposable: \",disposable)\n",
    "print(\"Delinuency:\",delinquency)\n",
    "# if(delinquency):\n",
    "#     print(\"You have delinuency in your loan and you are not eligible for loan\")\n",
    "# else:\n",
    "#     if(disposable>0):\n",
    "#         print(\"You are eligible for loan\")\n",
    "#     else:\n",
    "#         print(\"You are not eligible for loan\")"
   ]
  }
 ],
 "metadata": {
  "kernelspec": {
   "display_name": "Python 3.9.15 ('Automation')",
   "language": "python",
   "name": "python3"
  },
  "language_info": {
   "codemirror_mode": {
    "name": "ipython",
    "version": 3
   },
   "file_extension": ".py",
   "mimetype": "text/x-python",
   "name": "python",
   "nbconvert_exporter": "python",
   "pygments_lexer": "ipython3",
   "version": "3.9.15"
  },
  "orig_nbformat": 4,
  "vscode": {
   "interpreter": {
    "hash": "5c9d2df7a0fd9f7ead196cf808e359ff77717282d94b5e44178885e958ad6d29"
   }
  }
 },
 "nbformat": 4,
 "nbformat_minor": 2
}
