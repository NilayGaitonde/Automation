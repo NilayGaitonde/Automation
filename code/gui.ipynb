{
 "cells": [
  {
   "cell_type": "code",
   "execution_count": null,
   "metadata": {},
   "outputs": [],
   "source": [
    "import tkinter as tk\n",
    "\n",
    "# Create the window\n",
    "window = tk.Tk()\n",
    "# create text label\n",
    "label = tk.Label(text=\"Hello, Tkinter\")"
   ]
  }
 ],
 "metadata": {
  "language_info": {
   "name": "python"
  },
  "orig_nbformat": 4
 },
 "nbformat": 4,
 "nbformat_minor": 2
}
