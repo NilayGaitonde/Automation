{
 "cells": [
  {
   "cell_type": "code",
   "execution_count": 1,
   "metadata": {},
   "outputs": [],
   "source": [
    "import PyPDF2\n",
    "import re"
   ]
  },
  {
   "cell_type": "code",
   "execution_count": 2,
   "metadata": {},
   "outputs": [],
   "source": [
    "def check_delinquencies(str1):\n",
    "    indexes = [match.start() for match in re.finditer(r'-22', str1)]\n",
    "    if len(indexes)<=6 and len(indexes)>=1:\n",
    "        # print(str1)\n",
    "        # print(\"indexes\",indexes)\n",
    "        a = indexes[-1]\n",
    "        substring = str1[0:a]\n",
    "        c=substring+\"-22\"\n",
    "        char = \"+\"\n",
    "        clsd=\"CLSD\"\n",
    "        wof=\"WOF\"\n",
    "        rcv=\"RCV\"\n",
    "        print(c.count(char)+c.count(clsd)+c.count(wof)+c.count(rcv))\n",
    "        return (c.count(char)+c.count(clsd)+c.count(wof)+c.count(rcv))\n",
    "        # print(c.count(char)+c.count(clsd)+c.count(wof)+c.count(rcv))\n",
    "    elif len(indexes)>=6:\n",
    "        a = indexes[0:6]\n",
    "        # print(\"a\",a)\n",
    "        b=a[-1]\n",
    "        substring = str1[0:b]\n",
    "        c=substring+\"-22\"\n",
    "        char = \"+\"\n",
    "        clsd=\"CLSD\"\n",
    "        wof=\"WOF\"\n",
    "        rcv=\"RCV\" \n",
    "        print(c.count(char)+c.count(clsd)+c.count(wof)+c.count(rcv))\n",
    "        return(c.count(char)+c.count(clsd)+c.count(wof)+c.count(rcv))\n",
    "        # print()\n",
    "    #  print(\" + \"+str(c.count(char))+\" CLSD \"+str(c.count(clsd))+\" WOF \"+str(c.count(wof))+\" RCV \"+str(c.count(rcv)))\n",
    "    else:\n",
    "        print(0)\n"
   ]
  },
  {
   "cell_type": "code",
   "execution_count": 3,
   "metadata": {},
   "outputs": [
    {
     "name": "stdout",
     "output_type": "stream",
     "text": [
      "2\n",
      "2\n",
      "2\n",
      "2\n",
      "2\n",
      "2\n",
      "2\n",
      "2\n",
      "2\n",
      "2\n",
      "2\n",
      "2\n",
      "2\n",
      "2\n",
      "2\n",
      "2\n",
      "2\n",
      "2\n",
      "2\n",
      "2\n"
     ]
    }
   ],
   "source": [
    "pdfFileObj = open(\"/Users/nilaygaitonde/Downloads/Amit Kumar Srivastava_ cibill report pl.pdf\", 'rb')\n",
    "complete_String = \"\"\n",
    "pdfReader = PyPDF2.PdfFileReader(pdfFileObj)\n",
    "for i in range(pdfReader.numPages):\n",
    "    pageObj = pdfReader.getPage(i).extract_text()\n",
    "    complete_String += pageObj\n",
    "countAcc = complete_String.count(\"Acct # :\")\n",
    "for i in range(countAcc):\n",
    "    delinquecy = False\n",
    "    accountNoIndex = complete_String.find(\"Acct # :\")\n",
    "    text = complete_String[accountNoIndex+1:]\n",
    "    print(check_delinquencies(text))"
   ]
  }
 ],
 "metadata": {
  "kernelspec": {
   "display_name": "Automation",
   "language": "python",
   "name": "python3"
  },
  "language_info": {
   "codemirror_mode": {
    "name": "ipython",
    "version": 3
   },
   "file_extension": ".py",
   "mimetype": "text/x-python",
   "name": "python",
   "nbconvert_exporter": "python",
   "pygments_lexer": "ipython3",
   "version": "3.9.15"
  },
  "orig_nbformat": 4,
  "vscode": {
   "interpreter": {
    "hash": "5c9d2df7a0fd9f7ead196cf808e359ff77717282d94b5e44178885e958ad6d29"
   }
  }
 },
 "nbformat": 4,
 "nbformat_minor": 2
}
