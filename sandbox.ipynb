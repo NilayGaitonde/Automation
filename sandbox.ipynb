{
 "cells": [
  {
   "cell_type": "code",
   "execution_count": 135,
   "metadata": {},
   "outputs": [],
   "source": [
    "# importing required modules\n",
    "import PyPDF2\n",
    "import re\n",
    "\t\n",
    "# creating a pdf file object\n",
    "pdfFileObj = open('SWATI PAWAR CIBILL REPORT.pdf', 'rb')\n",
    "\t\n",
    "# creating a pdf reader object\n",
    "pdfReader = PyPDF2.PdfFileReader(pdfFileObj)\n",
    "\t\n",
    "# # printing number of pages in pdf file\n",
    "# print(pdfReader.numPages)\n",
    "\t\n",
    "# # creating a page object\n",
    "# pageObj = pdfReader.getPage(0)\n",
    "\t\n",
    "# # extracting text from page\n",
    "# print(pageObj.extractText())\n",
    "\t\n",
    "# # closing the pdf file object\n",
    "# pdfFileObj.close()\n",
    "\n"
   ]
  },
  {
   "cell_type": "code",
   "execution_count": 15,
   "metadata": {},
   "outputs": [],
   "source": [
    "balance = 3009\n",
    "openAcc = True"
   ]
  },
  {
   "cell_type": "code",
   "execution_count": 24,
   "metadata": {},
   "outputs": [],
   "source": [
    "def get_index(firstIndex,string):\n",
    "    return int(firstIndex)+int(len(string))"
   ]
  },
  {
   "cell_type": "code",
   "execution_count": 184,
   "metadata": {},
   "outputs": [
    {
     "name": "stdout",
     "output_type": "stream",
     "text": [
      "Page 3 Copyright © 2019 Equifax Credit Information Services Private LimitedReport Order No: 604591230 Date  \t : 05-12-2022\n",
      "Time \t : 15:43:45Equifax Credit Report with Score\n",
      "Account Status:\n",
      "Asset Classification:\n",
      "Suit Filed Status:60+\n",
      "SPM\n",
      "*\n",
      "09-2230+\n",
      "SPM\n",
      "*\n",
      "08-22\n",
      "Acct # : 944973 Balance: Rs. 4,298 Open: Yes Date Reported: 30-09-2022\n",
      "Institution : Vivifi India Finance Private \n",
      "LimitedPast Due Amount: Interest Rate: Date Opened: 17-04-2022\n",
      "Type: Personal Loan Last Payment: Last Payment Date: 02-09-2022 Date Closed:\n",
      "Ownership Type: Individual Write-off Amount: Sanction Amount : Rs. 6,100 Reason:\n",
      "Repayment Tenure: Monthly Payment Amount: Credit Limit: Collateral Value:\n",
      "Dispute Code: Term Frequency: Collateral Type:\n",
      "Account Status: Standard\n",
      "Asset Classification: Standard\n",
      "Suit Filed Status:\n",
      "History\n",
      "Account Status:\n",
      "Asset Classification:\n",
      "Suit Filed Status:STD\n",
      "STD\n",
      "*\n",
      "09-22STD\n",
      "STD\n",
      "*\n",
      "08-22STD\n",
      "STD\n",
      "*\n",
      "07-22STD\n",
      "STD\n",
      "*\n",
      "06-22STD\n",
      "STD\n",
      "*\n",
      "05-22NEW\n",
      "STD\n",
      "*\n",
      "04-22\n",
      "Acct # : 82783151 Balance: 0 Open: No Date Reported: 30-09-2022\n",
      "Institution : Pinnacle Capital Solution Pvt \n",
      "LtdPast Due Amount: 0 Interest Rate: Date Opened: 02-03-2022\n",
      "Type: Personal Loan Last Payment: Last Payment Date: 10-09-2022 Date Closed: 10-09-2022\n",
      "Ownership Type: Individual Write-off Amount: Sanction Amount : Rs. 15,000 Reason: Closed Account\n",
      "Repayment Tenure: Monthly Payment Amount: Credit Limit: Collateral Value:\n",
      "Dispute Code: Term Frequency: Collateral Type:\n",
      "Account Status: Closed Account\n",
      "Asset Classification:\n",
      "Suit Filed Status:\n",
      "History\n",
      "Account Status:\n",
      "Asset Classification:\n",
      "Suit Filed Status:CLSD\n",
      "*\n",
      "*\n",
      "09-22000\n",
      "*\n",
      "*\n",
      "08-22000\n",
      "*\n",
      "*\n",
      "07-22000\n",
      "*\n",
      "*\n",
      "06-22000\n",
      "*\n",
      "*\n",
      "05-22000\n",
      "*\n",
      "*\n",
      "04-22NEW\n",
      "*\n",
      "*\n",
      "03-22\n",
      "Acct # : CL1179969 Balance: 0 Open: No Date Reported: 30-09-2022\n",
      "Institution : Bhanix Finance And \n",
      "Investment LimitedPast Due Amount: 0 Interest Rate: 7.5 Date Opened: 20-04-2022\n",
      "Type: Personal Loan Last Payment: Rs. 16,125 Last Payment Date: 20-07-2022 Date Closed: 20-07-2022\n",
      "Ownership Type: Write-off Amount: Sanction Amount : Rs. 15,000 Reason: Closed Account\n",
      "Repayment Tenure: 3 Monthly Payment Amount: Rs. 5,375 Credit Limit: Collateral Value:\n",
      "Dispute Code: Term Frequency: Monthly Collateral Type:\n",
      "Account Status: Closed Account\n",
      "Asset Classification:\n",
      "Suit Filed Status:\n",
      "History\n"
     ]
    }
   ],
   "source": [
    "page2Obj = pdfReader.getPage(2)\n",
    "print(page2Obj.extract_text())"
   ]
  },
  {
   "cell_type": "code",
   "execution_count": 197,
   "metadata": {},
   "outputs": [],
   "source": [
    "def create_loan(text,on_page_2):\n",
    "    loan = {\"institution\":[],\"type\":[],\"sanction_credit\":[],\"balance\":[],\"emi\":[],\"paid_principal\":[]}\n",
    "    openNo = 0\n",
    "    countAcc = text.count(\"Acct # :\")\n",
    "    for _ in range(countAcc):\n",
    "        accountIndex = text.find(\"Acct # :\")\n",
    "        text = text[accountIndex+1:]\n",
    "        openIndex = get_index(text.find('Open: '),'Open: ')\n",
    "        openValue = text[openIndex:(text.find(\"Date Reported: \"))]\n",
    "        openNo += 1\n",
    "        if(openValue != \"Yes\"):\n",
    "            print(\"hi\")\n",
    "            if(on_page_2):\n",
    "                try:\n",
    "                    balanceIndex = get_index(text.find('Balance: '),'Balance:')\n",
    "                    balance = text[balanceIndex:(text.find('Open:'))]\n",
    "                    balance = int(balance)\n",
    "                except ValueError:\n",
    "                    balanceIndex = get_index(text.find('Balance: Rs. '),'Balance: Rs. ')\n",
    "                    balance = text[balanceIndex:(text.find('Open:'))]\n",
    "                    balance = int(balance.replace(',',''))\n",
    "                loan['balance'].append((balance))\n",
    "            # Find institution\n",
    "            instiutionIndex = get_index(text.find('Institution : '),'Institution : ')\n",
    "            instiutionName = text[instiutionIndex:(text.find('Past Due Amount'))-1]\n",
    "            loan[\"institution\"].append(instiutionName)\n",
    "\n",
    "            # Find type of loan\n",
    "            typeIndex = get_index(text.find('Type: '),'Type: ')\n",
    "            typeName = text[typeIndex:(text.find('Last Payment:'))-1]\n",
    "            loan['type'].append(typeName)\n",
    "\n",
    "            # Find EMI\n",
    "            emiIndex = get_index(text.find('Monthly Payment Amount: '),'Monthly Payment Amount: Rs. ')\n",
    "            emiValue = text[emiIndex:(text.find('Credit Limit:'))-1]\n",
    "            if(emiValue == ''):\n",
    "                emiValue = 0\n",
    "            else:\n",
    "                emiValue=int(emiValue.replace(',',''))\n",
    "            loan['emi'].append(int(emiValue))\n",
    "            \n",
    "            if(typeName == 'Credit Card'):\n",
    "                creditIndex = get_index(text.find('Credit Limit:'),\"Credit Limit: Rs. \")\n",
    "                creditLimit = text[creditIndex:text.find('Collateral Value')-1]\n",
    "                sanction_credit = int(creditLimit.replace(',',''))\n",
    "            else:\n",
    "                sanctionIndex = get_index(text.find('Sanction Amount :'),\"Sanction Amount :Rs. \")\n",
    "                sanctionLimit = text[sanctionIndex:text.find('Reason:')]\n",
    "                sanction_credit = int(sanctionLimit.replace(',',''))\n",
    "            loan['sanction_credit'].append(int(sanction_credit))\n",
    "            loan[\"paid_principal\"].append(int(sanction_credit-balance))\n",
    "            # loan.update({\"institution\":instiutionName,\"type\":typeName,\"balance\":int(balance),\"sanction_credit\":int(sanction_credit),\"paid_principle_new\":int(sanction_credit-balance)})\n",
    "            # print(loan)\n",
    "    # print(openNo)\n",
    "    print(loan)"
   ]
  },
  {
   "cell_type": "code",
   "execution_count": 198,
   "metadata": {},
   "outputs": [
    {
     "name": "stdout",
     "output_type": "stream",
     "text": [
      "hi\n",
      "hi\n",
      "hi\n",
      "{'institution': ['Vivifi India Finance Private \\nLimite', 'Pinnacle Capital Solution Pvt \\nLt', 'Bhanix Finance And \\nInvestment Limite'], 'type': ['Personal Loan', 'Personal Loan', 'Personal Loan'], 'sanction_credit': [6100, 15000, 15000], 'balance': [4298, 0, 0], 'emi': [0, 0, 5375], 'paid_principal': [1802, 15000, 15000]}\n",
      "hi\n",
      "hi\n",
      "hi\n",
      "{'institution': ['Vivifi India Finance Private \\nLimite', 'Pinnacle Capital Solution Pvt \\nLt', 'Bhanix Finance And \\nInvestment Limite'], 'type': ['Personal Loan', 'Personal Loan', 'Personal Loan'], 'sanction_credit': [6100, 15000, 15000], 'balance': [4298, 0, 0], 'emi': [0, 0, 5375], 'paid_principal': [1802, 15000, 15000]}\n",
      "hi\n",
      "hi\n",
      "hi\n",
      "{'institution': ['Vivifi India Finance Private \\nLimite', 'Pinnacle Capital Solution Pvt \\nLt', 'Bhanix Finance And \\nInvestment Limite'], 'type': ['Personal Loan', 'Personal Loan', 'Personal Loan'], 'sanction_credit': [6100, 15000, 15000], 'balance': [4298, 0, 0], 'emi': [0, 0, 5375], 'paid_principal': [1802, 15000, 15000]}\n",
      "hi\n",
      "hi\n",
      "hi\n",
      "{'institution': ['Vivifi India Finance Private \\nLimite', 'Pinnacle Capital Solution Pvt \\nLt', 'Bhanix Finance And \\nInvestment Limite'], 'type': ['Personal Loan', 'Personal Loan', 'Personal Loan'], 'sanction_credit': [6100, 15000, 15000], 'balance': [4298, 0, 0], 'emi': [0, 0, 5375], 'paid_principal': [1802, 15000, 15000]}\n",
      "hi\n",
      "hi\n",
      "hi\n",
      "{'institution': ['Vivifi India Finance Private \\nLimite', 'Pinnacle Capital Solution Pvt \\nLt', 'Bhanix Finance And \\nInvestment Limite'], 'type': ['Personal Loan', 'Personal Loan', 'Personal Loan'], 'sanction_credit': [6100, 15000, 15000], 'balance': [4298, 0, 0], 'emi': [0, 0, 5375], 'paid_principal': [1802, 15000, 15000]}\n",
      "hi\n",
      "hi\n",
      "hi\n",
      "{'institution': ['Vivifi India Finance Private \\nLimite', 'Pinnacle Capital Solution Pvt \\nLt', 'Bhanix Finance And \\nInvestment Limite'], 'type': ['Personal Loan', 'Personal Loan', 'Personal Loan'], 'sanction_credit': [6100, 15000, 15000], 'balance': [4298, 0, 0], 'emi': [0, 0, 5375], 'paid_principal': [1802, 15000, 15000]}\n",
      "hi\n",
      "hi\n",
      "hi\n",
      "{'institution': ['Vivifi India Finance Private \\nLimite', 'Pinnacle Capital Solution Pvt \\nLt', 'Bhanix Finance And \\nInvestment Limite'], 'type': ['Personal Loan', 'Personal Loan', 'Personal Loan'], 'sanction_credit': [6100, 15000, 15000], 'balance': [4298, 0, 0], 'emi': [0, 0, 5375], 'paid_principal': [1802, 15000, 15000]}\n",
      "hi\n",
      "hi\n",
      "hi\n",
      "{'institution': ['Vivifi India Finance Private \\nLimite', 'Pinnacle Capital Solution Pvt \\nLt', 'Bhanix Finance And \\nInvestment Limite'], 'type': ['Personal Loan', 'Personal Loan', 'Personal Loan'], 'sanction_credit': [6100, 15000, 15000], 'balance': [4298, 0, 0], 'emi': [0, 0, 5375], 'paid_principal': [1802, 15000, 15000]}\n",
      "hi\n",
      "hi\n",
      "hi\n",
      "{'institution': ['Vivifi India Finance Private \\nLimite', 'Pinnacle Capital Solution Pvt \\nLt', 'Bhanix Finance And \\nInvestment Limite'], 'type': ['Personal Loan', 'Personal Loan', 'Personal Loan'], 'sanction_credit': [6100, 15000, 15000], 'balance': [4298, 0, 0], 'emi': [0, 0, 5375], 'paid_principal': [1802, 15000, 15000]}\n"
     ]
    }
   ],
   "source": [
    "for i in range(pdfReader.numPages):\n",
    "    pageObj = pdfReader.getPage(i)\n",
    "    create_loan(page2Obj.extract_text(),True)"
   ]
  },
  {
   "cell_type": "code",
   "execution_count": 120,
   "metadata": {},
   "outputs": [
    {
     "data": {
      "text/plain": [
       "6"
      ]
     },
     "execution_count": 120,
     "metadata": {},
     "output_type": "execute_result"
    }
   ],
   "source": [
    "stre = \"Acct #,Acct #,Acct #,\"\n",
    "ind = stre.find(\"Acct #\")\n",
    "stre_new = stre[ind+1:]\n",
    "stre_new.find(\"Acct #\")\n"
   ]
  }
 ],
 "metadata": {
  "kernelspec": {
   "display_name": "Python 3.9.15 ('Automation')",
   "language": "python",
   "name": "python3"
  },
  "language_info": {
   "codemirror_mode": {
    "name": "ipython",
    "version": 3
   },
   "file_extension": ".py",
   "mimetype": "text/x-python",
   "name": "python",
   "nbconvert_exporter": "python",
   "pygments_lexer": "ipython3",
   "version": "3.9.15"
  },
  "orig_nbformat": 4,
  "vscode": {
   "interpreter": {
    "hash": "5c9d2df7a0fd9f7ead196cf808e359ff77717282d94b5e44178885e958ad6d29"
   }
  }
 },
 "nbformat": 4,
 "nbformat_minor": 2
}
